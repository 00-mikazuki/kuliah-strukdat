{
 "cells": [
  {
   "cell_type": "code",
   "execution_count": null,
   "metadata": {},
   "outputs": [],
   "source": [
    "def bubbleSort(listData):\n",
    "print('Data yang akan diurutkan : ', listData)\n",
    "count=0\n",
    "for outIter in range(len(listData)-1,-1,-1):\n",
    "print('outIter=',outIter)\n",
    "count=count+1\n",
    "print ('Iterasi ke-', count,':')\n",
    "for i in range(outIter):\n",
    "if listData[i]>listData[i+1]:\n",
    "temp=listData[i]\n",
    "listData[i]=listData[i+1]\n",
    "listData[i+1]=temp\n",
    "#listData[i],listData[i+1]=listData[i+1],listData[i]\n",
    "print(outIter,'=',listData)\n",
    "print('Data urut-',listData)"
   ]
  },
  {
   "cell_type": "code",
   "execution_count": 2,
   "metadata": {},
   "outputs": [],
   "source": [
    "def insertionSort(listData):\n",
    "\n",
    "  for outIter in range(1,len(listData)):\n",
    "    print(listData)\n",
    "    key=listData[outIter]\n",
    "    ind=outIter\n",
    "    while (ind>0 and listData[ind-1]>key):\n",
    "      listData[ind]=listData[ind-1]\n",
    "      ind=ind-1\n",
    "      print('inner=',listData)\n",
    "    listData[ind]=key\n",
    "  print('sortedData=',listData)"
   ]
  },
  {
   "cell_type": "code",
   "execution_count": 3,
   "metadata": {},
   "outputs": [
    {
     "name": "stdout",
     "output_type": "stream",
     "text": [
      "[10, 2, 5, 8, 1, 20, 2, 2, 4]\n",
      "inner= [10, 10, 5, 8, 1, 20, 2, 2, 4]\n",
      "[2, 10, 5, 8, 1, 20, 2, 2, 4]\n",
      "inner= [2, 10, 10, 8, 1, 20, 2, 2, 4]\n",
      "[2, 5, 10, 8, 1, 20, 2, 2, 4]\n",
      "inner= [2, 5, 10, 10, 1, 20, 2, 2, 4]\n",
      "[2, 5, 8, 10, 1, 20, 2, 2, 4]\n",
      "inner= [2, 5, 8, 10, 10, 20, 2, 2, 4]\n",
      "inner= [2, 5, 8, 8, 10, 20, 2, 2, 4]\n",
      "inner= [2, 5, 5, 8, 10, 20, 2, 2, 4]\n",
      "inner= [2, 2, 5, 8, 10, 20, 2, 2, 4]\n",
      "[1, 2, 5, 8, 10, 20, 2, 2, 4]\n",
      "[1, 2, 5, 8, 10, 20, 2, 2, 4]\n",
      "inner= [1, 2, 5, 8, 10, 20, 20, 2, 4]\n",
      "inner= [1, 2, 5, 8, 10, 10, 20, 2, 4]\n",
      "inner= [1, 2, 5, 8, 8, 10, 20, 2, 4]\n",
      "inner= [1, 2, 5, 5, 8, 10, 20, 2, 4]\n",
      "[1, 2, 2, 5, 8, 10, 20, 2, 4]\n",
      "inner= [1, 2, 2, 5, 8, 10, 20, 20, 4]\n",
      "inner= [1, 2, 2, 5, 8, 10, 10, 20, 4]\n",
      "inner= [1, 2, 2, 5, 8, 8, 10, 20, 4]\n",
      "inner= [1, 2, 2, 5, 5, 8, 10, 20, 4]\n",
      "[1, 2, 2, 2, 5, 8, 10, 20, 4]\n",
      "inner= [1, 2, 2, 2, 5, 8, 10, 20, 20]\n",
      "inner= [1, 2, 2, 2, 5, 8, 10, 10, 20]\n",
      "inner= [1, 2, 2, 2, 5, 8, 8, 10, 20]\n",
      "inner= [1, 2, 2, 2, 5, 5, 8, 10, 20]\n",
      "sortedData= [1, 2, 2, 2, 4, 5, 8, 10, 20]\n"
     ]
    }
   ],
   "source": [
    "b=[10,2,5,8,1,20,2,2,4]\n",
    "insertionSort(b)"
   ]
  },
  {
   "cell_type": "code",
   "execution_count": 4,
   "metadata": {},
   "outputs": [],
   "source": [
    "def palindrome(s):\n",
    "  if len(s) <= 1:\n",
    "    return True\n",
    "  else:\n",
    "    if s[0] == s[-1]:\n",
    "      return palindrome(s[1:-1])\n",
    "    else:\n",
    "      return False"
   ]
  },
  {
   "cell_type": "code",
   "execution_count": 5,
   "metadata": {},
   "outputs": [
    {
     "data": {
      "text/plain": [
       "True"
      ]
     },
     "execution_count": 5,
     "metadata": {},
     "output_type": "execute_result"
    }
   ],
   "source": [
    "palindrome('katak')"
   ]
  },
  {
   "cell_type": "code",
   "execution_count": 6,
   "metadata": {},
   "outputs": [
    {
     "name": "stdout",
     "output_type": "stream",
     "text": [
      "5\n",
      "4\n",
      "3\n",
      "2\n",
      "1\n",
      "Blastoff!\n"
     ]
    }
   ],
   "source": [
    "def countdown(n):\n",
    "  if n <= 0:\n",
    "    print(\"Blastoff!\")\n",
    "  else:\n",
    "    print(n)\n",
    "    countdown(n-1)\n",
    "\n",
    "countdown(5)"
   ]
  },
  {
   "cell_type": "code",
   "execution_count": 7,
   "metadata": {},
   "outputs": [],
   "source": [
    "def sum(arr):\n",
    "  if len(arr) == 1:\n",
    "    return arr[0]\n",
    "  else:\n",
    "    return arr[0] + sum(arr[1:])"
   ]
  },
  {
   "cell_type": "code",
   "execution_count": 8,
   "metadata": {},
   "outputs": [
    {
     "data": {
      "text/plain": [
       "15"
      ]
     },
     "execution_count": 8,
     "metadata": {},
     "output_type": "execute_result"
    }
   ],
   "source": [
    "sum([1,2,3,4,5])"
   ]
  }
 ],
 "metadata": {
  "kernelspec": {
   "display_name": "Python 3",
   "language": "python",
   "name": "python3"
  },
  "language_info": {
   "codemirror_mode": {
    "name": "ipython",
    "version": 3
   },
   "file_extension": ".py",
   "mimetype": "text/x-python",
   "name": "python",
   "nbconvert_exporter": "python",
   "pygments_lexer": "ipython3",
   "version": "3.10.8"
  },
  "orig_nbformat": 4
 },
 "nbformat": 4,
 "nbformat_minor": 2
}
