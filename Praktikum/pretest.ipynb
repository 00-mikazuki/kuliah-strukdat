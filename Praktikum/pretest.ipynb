{
 "cells": [
  {
   "cell_type": "code",
   "execution_count": 1,
   "metadata": {},
   "outputs": [
    {
     "name": "stdout",
     "output_type": "stream",
     "text": [
      "(7, 10)\n"
     ]
    }
   ],
   "source": [
    "def add(a, b):\n",
    "  return a+b, b+5\n",
    "\n",
    "print(add(2,5))"
   ]
  },
  {
   "cell_type": "code",
   "execution_count": 3,
   "metadata": {},
   "outputs": [
    {
     "name": "stdout",
     "output_type": "stream",
     "text": [
      "infix notation:  ((A+B)*C/D+E^F)/G\n",
      "postfix notation:  AB+C*D/EF^+G/\n"
     ]
    }
   ],
   "source": [
    "Operators = set(['+', '-', '*', '/', '(', ')', '^'])  # collection of Operators\n",
    "\n",
    "Priority = {'+':1, '-':1, '*':2, '/':2, '^':3} # dictionary having priorities of Operators\n",
    "\n",
    "\n",
    "def infixToPostfix(expression): \n",
    "\n",
    "    stack = [] # initialization of empty stack\n",
    "\n",
    "    output = '' \n",
    "\n",
    "    \n",
    "\n",
    "    for character in expression:\n",
    "\n",
    "        if character not in Operators:  # if an operand append in postfix expression\n",
    "\n",
    "            output+= character\n",
    "\n",
    "        elif character=='(':  # else Operators push onto stack\n",
    "\n",
    "            stack.append('(')\n",
    "\n",
    "        elif character==')':\n",
    "\n",
    "            while stack and stack[-1]!= '(':\n",
    "\n",
    "                output+=stack.pop()\n",
    "\n",
    "            stack.pop()\n",
    "\n",
    "        else: \n",
    "\n",
    "            while stack and stack[-1]!='(' and Priority[character]<=Priority[stack[-1]]:\n",
    "\n",
    "                output+=stack.pop()\n",
    "\n",
    "            stack.append(character)\n",
    "\n",
    "    while stack:\n",
    "\n",
    "        output+=stack.pop()\n",
    "\n",
    "    return output\n",
    "\n",
    "\n",
    "expression = input('Enter infix expression ')\n",
    "\n",
    "print('infix notation: ',expression)\n",
    "\n",
    "print('postfix notation: ',infixToPostfix(expression))"
   ]
  },
  {
   "cell_type": "code",
   "execution_count": 4,
   "metadata": {},
   "outputs": [],
   "source": [
    "def insertion_sort(arr):\n",
    "  for i in range(1, len(arr)):\n",
    "    key = arr[i]\n",
    "    j = i - 1\n",
    "    while j >= 0 and key < arr[j]:\n",
    "      arr[j + 1] = arr[j]\n",
    "      j -= 1\n",
    "    aee[j + 1] = key"
   ]
  },
  {
   "cell_type": "code",
   "execution_count": 5,
   "metadata": {},
   "outputs": [],
   "source": [
    "def selection_sort(arr):\n",
    "  n = len(arr)\n",
    "  for i in range(n):\n",
    "    min_idx = i\n",
    "    for j in range(i+1, n):\n",
    "      if arr[j] < arr[min_idx]:\n",
    "        min_idx = j\n",
    "      arr[i], arr[min_idx] = arr[min_idx], arr[i]"
   ]
  },
  {
   "cell_type": "code",
   "execution_count": 6,
   "metadata": {},
   "outputs": [],
   "source": [
    "def pangkat(x, y):\n",
    "  if y == 0:\n",
    "    return 1\n",
    "  else:\n",
    "    return x * pangkat(x, y-1)"
   ]
  },
  {
   "cell_type": "code",
   "execution_count": 7,
   "metadata": {},
   "outputs": [
    {
     "data": {
      "text/plain": [
       "32"
      ]
     },
     "execution_count": 7,
     "metadata": {},
     "output_type": "execute_result"
    }
   ],
   "source": [
    "pangkat(2,5)"
   ]
  },
  {
   "cell_type": "code",
   "execution_count": 10,
   "metadata": {},
   "outputs": [],
   "source": [
    "def fibonacci(n):\n",
    "  if n <= 1:\n",
    "    return n\n",
    "  else:\n",
    "    return (fibonacci(n-1) + fibonacci(n-2))"
   ]
  },
  {
   "cell_type": "code",
   "execution_count": 11,
   "metadata": {},
   "outputs": [
    {
     "data": {
      "text/plain": [
       "13"
      ]
     },
     "execution_count": 11,
     "metadata": {},
     "output_type": "execute_result"
    }
   ],
   "source": [
    "fibonacci(7)"
   ]
  },
  {
   "cell_type": "code",
   "execution_count": 12,
   "metadata": {},
   "outputs": [],
   "source": [
    "def faktorial(n):\n",
    "  if n == 1:\n",
    "    return 1\n",
    "  else:\n",
    "    return n * faktorial(n-1)"
   ]
  },
  {
   "cell_type": "code",
   "execution_count": 13,
   "metadata": {},
   "outputs": [
    {
     "data": {
      "text/plain": [
       "120"
      ]
     },
     "execution_count": 13,
     "metadata": {},
     "output_type": "execute_result"
    }
   ],
   "source": [
    "faktorial(5)"
   ]
  },
  {
   "cell_type": "code",
   "execution_count": 14,
   "metadata": {},
   "outputs": [],
   "source": [
    "def sequential_search(data, target):\n",
    "  for i in range(len(data)):\n",
    "    if data[i] == target:\n",
    "      return i\n",
    "  return -1"
   ]
  }
 ],
 "metadata": {
  "kernelspec": {
   "display_name": "Python 3",
   "language": "python",
   "name": "python3"
  },
  "language_info": {
   "codemirror_mode": {
    "name": "ipython",
    "version": 3
   },
   "file_extension": ".py",
   "mimetype": "text/x-python",
   "name": "python",
   "nbconvert_exporter": "python",
   "pygments_lexer": "ipython3",
   "version": "3.10.8"
  },
  "orig_nbformat": 4
 },
 "nbformat": 4,
 "nbformat_minor": 2
}
